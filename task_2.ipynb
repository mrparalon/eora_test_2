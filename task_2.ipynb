{
 "cells": [
  {
   "cell_type": "code",
   "execution_count": 12,
   "metadata": {},
   "outputs": [],
   "source": [
    "import pandas as pd\n",
    "import warnings\n",
    "warnings.filterwarnings('ignore')\n",
    "\n",
    "csv_data = pd.read_csv('table.csv')\n"
   ]
  },
  {
   "cell_type": "code",
   "execution_count": 13,
   "metadata": {},
   "outputs": [
    {
     "data": {
      "text/plain": [
       "DecisionTreeClassifier(class_weight=None, criterion='gini', max_depth=4,\n",
       "                       max_features=None, max_leaf_nodes=None,\n",
       "                       min_impurity_decrease=0.0, min_impurity_split=None,\n",
       "                       min_samples_leaf=1, min_samples_split=2,\n",
       "                       min_weight_fraction_leaf=0.0, presort=False,\n",
       "                       random_state=None, splitter='best')"
      ]
     },
     "execution_count": 13,
     "metadata": {},
     "output_type": "execute_result"
    }
   ],
   "source": [
    "from sklearn.tree import DecisionTreeClassifier, plot_tree\n",
    "\n",
    "training_data = csv_data[0:280]\n",
    "validation_data = csv_data[280:]\n",
    "x = training_data.Score.values.reshape(-1, 1)\n",
    "y = training_data.Action.values.reshape(-1, 1)\n",
    "\n",
    "x_validation = validation_data.Score.values.reshape(-1, 1)\n",
    "x_all_data = csv_data.Score.values.reshape(-1, 1)\n",
    "\n",
    "model_tree = DecisionTreeClassifier(max_depth=4)\n",
    "model_tree.fit(x, y)\n"
   ]
  },
  {
   "cell_type": "code",
   "execution_count": 14,
   "metadata": {},
   "outputs": [
    {
     "name": "stdout",
     "output_type": "stream",
     "text": [
      "Prediction rate for validation data 66.66666666666667%\n",
      "Prediction rate for all data 66.4850136239782%\n"
     ]
    }
   ],
   "source": [
    "predicted_by_tree = model_tree.predict(x_validation)\n",
    "\n",
    "validation_data['predicted'] = predicted_by_tree\n",
    "validation_data['correct_prediction'] = validation_data.apply(lambda row: row.predicted == row.Action, axis=1)\n",
    "\n",
    "\n",
    "validation_data.to_csv('new_data.csv')\n",
    "correct_counter = validation_data.correct_prediction.value_counts()\n",
    "prediction_rate = correct_counter[True] * 100 / (correct_counter[False] + correct_counter[True])\n",
    "print(f'Prediction rate for validation data {prediction_rate}%')\n",
    "\n",
    "\n",
    "predicted_by_tree_all = model_tree.predict(x_all_data)\n",
    "csv_data['predicted'] = predicted_by_tree_all\n",
    "csv_data['correct_prediction'] = csv_data.apply(lambda row: row.predicted == row.Action, axis=1)\n",
    "correct_counter_all = csv_data.correct_prediction.value_counts()\n",
    "prediction_rate_all = correct_counter_all[True] * 100 / (correct_counter_all[False] + correct_counter_all[True])\n",
    "print(f'Prediction rate for all data {prediction_rate_all}%')"
   ]
  },
  {
   "cell_type": "code",
   "execution_count": 22,
   "metadata": {},
   "outputs": [
    {
     "name": "stdout",
     "output_type": "stream",
     "text": [
      "Prediction for 16 -> operator\n",
      "Prediction for 23 -> operator\n",
      "Prediction for 42 -> reask\n",
      "Prediction for 88 -> correct\n"
     ]
    }
   ],
   "source": [
    "def predict_by_score(score, model):\n",
    "    prediction = model.predict([[score]]) \n",
    "    return prediction[0]\n",
    "\n",
    "print(f'Prediction for 16 -> {predict_by_score(16, model_tree)}')\n",
    "print(f'Prediction for 23 -> {predict_by_score(23, model_tree)}')\n",
    "print(f'Prediction for 42 -> {predict_by_score(42, model_tree)}')\n",
    "print(f'Prediction for 88 -> {predict_by_score(88, model_tree)}')\n"
   ]
  },
  {
   "cell_type": "code",
   "execution_count": null,
   "metadata": {},
   "outputs": [],
   "source": []
  }
 ],
 "metadata": {
  "kernelspec": {
   "display_name": "Python 3",
   "language": "python",
   "name": "python3"
  },
  "language_info": {
   "codemirror_mode": {
    "name": "ipython",
    "version": 3
   },
   "file_extension": ".py",
   "mimetype": "text/x-python",
   "name": "python",
   "nbconvert_exporter": "python",
   "pygments_lexer": "ipython3",
   "version": "3.7.4"
  }
 },
 "nbformat": 4,
 "nbformat_minor": 2
}
